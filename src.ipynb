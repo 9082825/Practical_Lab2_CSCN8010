{
 "cells": [
  {
   "cell_type": "code",
   "execution_count": null,
   "id": "b5ac419d",
   "metadata": {},
   "outputs": [],
   "source": [
    "# ===== Imports =====\n",
    "import numpy as np\n",
    "import pandas as pd\n",
    "import matplotlib.pyplot as plt\n",
    "\n",
    "from sklearn.datasets import load_diabetes\n",
    "from sklearn.model_selection import train_test_split\n",
    "\n",
    "# plotting defaults\n",
    "plt.rcParams[\"figure.figsize\"] = (8, 5)\n",
    "plt.rcParams[\"axes.grid\"] = True\n",
    "\n",
    "# ===== Load dataset =====\n",
    "diab = load_diabetes(as_frame=True)   # returns a Bunch with .frame (DataFrame)\n",
    "df = diab.frame.copy()                 # features + target column 'target'\n",
    "\n",
    "# Rename for clarity (optional)\n",
    "df = df.rename(columns={\"target\": \"progression\"})\n",
    "\n",
    "feature_names = diab.feature_names\n",
    "target_name = \"progression\"\n",
    "\n",
    "print(f\"Rows: {df.shape[0]}, Columns: {df.shape[1]}\")\n",
    "df.head()\n"
   ]
  }
 ],
 "metadata": {
  "kernelspec": {
   "display_name": ".venv",
   "language": "python",
   "name": "python3"
  },
  "language_info": {
   "name": "python",
   "version": "3.13.7"
  }
 },
 "nbformat": 4,
 "nbformat_minor": 5
}
